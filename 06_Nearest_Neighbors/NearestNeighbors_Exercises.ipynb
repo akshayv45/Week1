{
 "cells": [
  {
   "cell_type": "markdown",
   "source": "# Nearest Neighbors Exercises",
   "metadata": {
    "colab_type": "text",
    "id": "3hHvV20eD58o",
    "cell_id": "00000-c2e7636f-01eb-4539-9615-f462e6f2f682",
    "deepnote_cell_type": "markdown",
    "deepnote_cell_height": 82
   }
  },
  {
   "cell_type": "code",
   "metadata": {
    "colab_type": "code",
    "id": "z1h_AAj_D4kX",
    "colab": {},
    "cell_id": "00001-f904f2ff-f49d-4cf5-a2bf-8f8d4d09a9f4",
    "deepnote_to_be_reexecuted": false,
    "source_hash": "ab7040a7",
    "execution_start": 1657725184006,
    "execution_millis": 2125,
    "deepnote_cell_type": "code",
    "deepnote_cell_height": 189
   },
   "source": "import numpy as np\nimport pandas as po\nimport matplotlib.pyplot as plt\n\nfrom sklearn.model_selection import train_test_split\nfrom sklearn.neighbors import KNeighborsClassifier\nfrom sklearn.metrics import accuracy_score",
   "outputs": [],
   "execution_count": null
  },
  {
   "cell_type": "markdown",
   "source": "## Problem 1\n\nConsider the following simple data-set:\n\n<img src=\"https://github.com/BeaverWorksMedlytics2020/Data_Public/raw/master/Images/Week1/knn_notebook_example_table.png\" alt=\"Example Table\" width=\"600\">\n\nNow consider the Sample:\n    $$X= 4, Y = 4, Z = 2$$",
   "metadata": {
    "id": "87tmgzNMb9tV",
    "colab_type": "text",
    "cell_id": "00002-2beb2222-d4f3-4315-93f0-65c78469f97c",
    "deepnote_cell_type": "markdown",
    "deepnote_cell_height": 429.90625
   }
  },
  {
   "cell_type": "markdown",
   "source": "Using kNN, what is the class for this sample for $k = 1$ and $k = 3?$ Use the Eucledian metric.\n\nclass 1 for k=1, class 2 for k=3",
   "metadata": {
    "colab_type": "text",
    "id": "gqjait37Qws0",
    "cell_id": "00003-18cde72a-8ca0-4c0d-b013-47e1989dbbb6",
    "deepnote_cell_type": "markdown",
    "deepnote_cell_height": 88.796875
   }
  },
  {
   "cell_type": "markdown",
   "source": "## Problem 2\nEarlier in the tutorial we were told that kNN depends on several factors, one of them being $k$. Consider the following datasets below, find the optimal value of $k$ that gives the highest accuracy. Visualize your data! Can you come up with some rule for getting a good idea of what $k$ is? \n\nHINT: look for a pattern/bound! Answer should be in terms of the size of the dataset $n$. ",
   "metadata": {
    "colab_type": "text",
    "id": "MtE0uiKuTWsI",
    "cell_id": "00004-1e5b3c66-acca-4989-9b28-d291cabf73b5",
    "deepnote_cell_type": "markdown",
    "deepnote_cell_height": 189.59375
   }
  },
  {
   "cell_type": "code",
   "metadata": {
    "id": "aapncOgUo_5r",
    "colab_type": "code",
    "colab": {},
    "cell_id": "00005-5ace4d9e-53cb-4a41-984a-68dc97516054",
    "deepnote_to_be_reexecuted": false,
    "source_hash": "4a5b7a34",
    "execution_start": 1657725186138,
    "execution_millis": 173,
    "deepnote_cell_type": "code",
    "deepnote_cell_height": 495
   },
   "source": "# Solve this problem for each of these datasets\nfrom sklearn.datasets import load_iris \nfrom sklearn.datasets import load_breast_cancer\nfrom sklearn.datasets import load_wine \n\n# Load those datasets into some easily accessible variables\n# The datasets are already normalized, so that saves us some steps!\niris = load_iris()                    #iris dataset: size = 150\nbreast_cancer = load_breast_cancer()  #diabetes dataset: size = 569\nwine = load_wine()                    #wine dataset: size 178\n\n# This function will perfom KNN classification for a specified k\ndef split_train_test_dataset(dataset, k, test_size=0.2):\n    \"\"\"Loads and performs KNN classification on the provided dataset\"\"\"\n    # Grab and split the dataset\n    X_train, X_val, y_train, y_val = train_test_split(\n        dataset.data, dataset.target, test_size=test_size, random_state=0)\n\n    # Build a KNN classifier, fit it and test its predictions\n    knn = KNeighborsClassifier(n_neighbors=k)\n    knn.fit(X_train, y_train)\n    print(\"Validation Accuracy is {:5.1%}\".format(\n        accuracy_score(y_val, knn.predict(X_val))))\n",
   "outputs": [],
   "execution_count": null
  },
  {
   "cell_type": "code",
   "metadata": {
    "id": "lQk-b90Kgz-S",
    "colab_type": "code",
    "colab": {},
    "cell_id": "00006-e64c614d-ef64-4987-be50-dc0a108ff803",
    "deepnote_to_be_reexecuted": false,
    "source_hash": "15783427",
    "execution_start": 1657725186323,
    "execution_millis": 1342,
    "owner_user_id": "426627d7-b7a3-4cb6-93f5-90d161d51524",
    "deepnote_cell_type": "code",
    "deepnote_cell_height": 809
   },
   "source": "# YOUR CODE HERE\n\n#IRIS DATASET\nfor i in range(1,121):\n    print('k= '+str(i))\n    split_train_test_dataset(iris,k=i)\n",
   "outputs": [
    {
     "name": "stdout",
     "text": "k= 1\nValidation Accuracy is 100.0%\nk= 2\nValidation Accuracy is 96.7%\nk= 3\nValidation Accuracy is 96.7%\nk= 4\nValidation Accuracy is 100.0%\nk= 5\nValidation Accuracy is 96.7%\nk= 6\nValidation Accuracy is 100.0%\nk= 7\nValidation Accuracy is 100.0%\nk= 8\nValidation Accuracy is 100.0%\nk= 9\nValidation Accuracy is 100.0%\nk= 10\nValidation Accuracy is 100.0%\nk= 11\nValidation Accuracy is 100.0%\nk= 12\nValidation Accuracy is 100.0%\nk= 13\nValidation Accuracy is 100.0%\nk= 14\nValidation Accuracy is 100.0%\nk= 15\nValidation Accuracy is 100.0%\nk= 16\nValidation Accuracy is 100.0%\nk= 17\nValidation Accuracy is 100.0%\nk= 18\nValidation Accuracy is 100.0%\nk= 19\nValidation Accuracy is 100.0%\nk= 20\nValidation Accuracy is 100.0%\nk= 21\nValidation Accuracy is 100.0%\nk= 22\nValidation Accuracy is 100.0%\nk= 23\nValidation Accuracy is 100.0%\nk= 24\nValidation Accuracy is 100.0%\nk= 25\nValidation Accuracy is 100.0%\nk= 26\nValidation Accuracy is 96.7%\nk= 27\nValidation Accuracy is 93.3%\nk= 28\nValidation Accuracy is 96.7%\nk= 29\nValidation Accuracy is 96.7%\nk= 30\nValidation Accuracy is 96.7%\nk= 31\nValidation Accuracy is 93.3%\nk= 32\nValidation Accuracy is 90.0%\nk= 33\nValidation Accuracy is 93.3%\nk= 34\nValidation Accuracy is 96.7%\nk= 35\nValidation Accuracy is 93.3%\nk= 36\nValidation Accuracy is 93.3%\nk= 37\nValidation Accuracy is 93.3%\nk= 38\nValidation Accuracy is 93.3%\nk= 39\nValidation Accuracy is 93.3%\nk= 40\nValidation Accuracy is 93.3%\nk= 41\nValidation Accuracy is 93.3%\nk= 42\nValidation Accuracy is 93.3%\nk= 43\nValidation Accuracy is 93.3%\nk= 44\nValidation Accuracy is 93.3%\nk= 45\nValidation Accuracy is 93.3%\nk= 46\nValidation Accuracy is 90.0%\nk= 47\nValidation Accuracy is 90.0%\nk= 48\nValidation Accuracy is 86.7%\nk= 49\nValidation Accuracy is 90.0%\nk= 50\nValidation Accuracy is 86.7%\nk= 51\nValidation Accuracy is 90.0%\nk= 52\nValidation Accuracy is 90.0%\nk= 53\nValidation Accuracy is 90.0%\nk= 54\nValidation Accuracy is 90.0%\nk= 55\nValidation Accuracy is 90.0%\nk= 56\nValidation Accuracy is 90.0%\nk= 57\nValidation Accuracy is 90.0%\nk= 58\nValidation Accuracy is 90.0%\nk= 59\nValidation Accuracy is 93.3%\nk= 60\nValidation Accuracy is 90.0%\nk= 61\nValidation Accuracy is 90.0%\nk= 62\nValidation Accuracy is 90.0%\nk= 63\nValidation Accuracy is 90.0%\nk= 64\nValidation Accuracy is 90.0%\nk= 65\nValidation Accuracy is 90.0%\nk= 66\nValidation Accuracy is 90.0%\nk= 67\nValidation Accuracy is 90.0%\nk= 68\nValidation Accuracy is 90.0%\nk= 69\nValidation Accuracy is 80.0%\nk= 70\nValidation Accuracy is 80.0%\nk= 71\nValidation Accuracy is 80.0%\nk= 72\nValidation Accuracy is 83.3%\nk= 73\nValidation Accuracy is 83.3%\nk= 74\nValidation Accuracy is 83.3%\nk= 75\nValidation Accuracy is 70.0%\nk= 76\nValidation Accuracy is 66.7%\nk= 77\nValidation Accuracy is 66.7%\nk= 78\nValidation Accuracy is 63.3%\nk= 79\nValidation Accuracy is 60.0%\nk= 80\nValidation Accuracy is 60.0%\nk= 81\nValidation Accuracy is 60.0%\nk= 82\nValidation Accuracy is 60.0%\nk= 83\nValidation Accuracy is 60.0%\nk= 84\nValidation Accuracy is 60.0%\nk= 85\nValidation Accuracy is 63.3%\nk= 86\nValidation Accuracy is 63.3%\nk= 87\nValidation Accuracy is 60.0%\nk= 88\nValidation Accuracy is 60.0%\nk= 89\nValidation Accuracy is 60.0%\nk= 90\nValidation Accuracy is 60.0%\nk= 91\nValidation Accuracy is 60.0%\nk= 92\nValidation Accuracy is 60.0%\nk= 93\nValidation Accuracy is 60.0%\nk= 94\nValidation Accuracy is 56.7%\nk= 95\nValidation Accuracy is 56.7%\nk= 96\nValidation Accuracy is 56.7%\nk= 97\nValidation Accuracy is 56.7%\nk= 98\nValidation Accuracy is 56.7%\nk= 99\nValidation Accuracy is 56.7%\nk= 100\nValidation Accuracy is 56.7%\nk= 101\nValidation Accuracy is 56.7%\nk= 102\nValidation Accuracy is 56.7%\nk= 103\nValidation Accuracy is 56.7%\nk= 104\nValidation Accuracy is 56.7%\nk= 105\nValidation Accuracy is 56.7%\nk= 106\nValidation Accuracy is 56.7%\nk= 107\nValidation Accuracy is 56.7%\nk= 108\nValidation Accuracy is 56.7%\nk= 109\nValidation Accuracy is 56.7%\nk= 110\nValidation Accuracy is 56.7%\nk= 111\nValidation Accuracy is 56.7%\nk= 112\nValidation Accuracy is 56.7%\nk= 113\nValidation Accuracy is 56.7%\nk= 114\nValidation Accuracy is 56.7%\nk= 115\nValidation Accuracy is 56.7%\nk= 116\nValidation Accuracy is 20.0%\nk= 117\nValidation Accuracy is 20.0%\nk= 118\nValidation Accuracy is 20.0%\nk= 119\nValidation Accuracy is 20.0%\nk= 120\nValidation Accuracy is 20.0%\n",
     "output_type": "stream"
    }
   ],
   "execution_count": null
  },
  {
   "cell_type": "code",
   "source": "for k in range(1,456):\n    print(\"NumNeighbors: \"+str(k))\n    split_train_test_dataset(breast_cancer, k)",
   "metadata": {
    "cell_id": "bd10e03b1b0a4a4b962b4d4d6efaa206",
    "tags": [],
    "deepnote_to_be_reexecuted": false,
    "source_hash": "d4dcae9f",
    "execution_start": 1657725187337,
    "execution_millis": 6127,
    "deepnote_cell_type": "code",
    "deepnote_cell_height": 737
   },
   "outputs": [
    {
     "name": "stdout",
     "text": "NumNeighbors: 1\nValidation Accuracy is 91.2%\nNumNeighbors: 2\nValidation Accuracy is 89.5%\nNumNeighbors: 3\nValidation Accuracy is 91.2%\nNumNeighbors: 4\nValidation Accuracy is 92.1%\nNumNeighbors: 5\nValidation Accuracy is 93.9%\nNumNeighbors: 6\nValidation Accuracy is 93.9%\nNumNeighbors: 7\nValidation Accuracy is 94.7%\nNumNeighbors: 8\nValidation Accuracy is 94.7%\nNumNeighbors: 9\nValidation Accuracy is 96.5%\nNumNeighbors: 10\nValidation Accuracy is 94.7%\nNumNeighbors: 11\nValidation Accuracy is 96.5%\nNumNeighbors: 12\nValidation Accuracy is 96.5%\nNumNeighbors: 13\nValidation Accuracy is 96.5%\nNumNeighbors: 14\nValidation Accuracy is 96.5%\nNumNeighbors: 15\nValidation Accuracy is 96.5%\nNumNeighbors: 16\nValidation Accuracy is 96.5%\nNumNeighbors: 17\nValidation Accuracy is 96.5%\nNumNeighbors: 18\nValidation Accuracy is 96.5%\nNumNeighbors: 19\nValidation Accuracy is 96.5%\nNumNeighbors: 20\nValidation Accuracy is 96.5%\nNumNeighbors: 21\nValidation Accuracy is 96.5%\nNumNeighbors: 22\nValidation Accuracy is 96.5%\nNumNeighbors: 23\nValidation Accuracy is 96.5%\nNumNeighbors: 24\nValidation Accuracy is 96.5%\nNumNeighbors: 25\nValidation Accuracy is 96.5%\nNumNeighbors: 26\nValidation Accuracy is 96.5%\nNumNeighbors: 27\nValidation Accuracy is 95.6%\nNumNeighbors: 28\nValidation Accuracy is 96.5%\nNumNeighbors: 29\nValidation Accuracy is 95.6%\nNumNeighbors: 30\nValidation Accuracy is 96.5%\nNumNeighbors: 31\nValidation Accuracy is 94.7%\nNumNeighbors: 32\nValidation Accuracy is 94.7%\nNumNeighbors: 33\nValidation Accuracy is 94.7%\nNumNeighbors: 34\nValidation Accuracy is 94.7%\nNumNeighbors: 35\nValidation Accuracy is 94.7%\nNumNeighbors: 36\nValidation Accuracy is 94.7%\nNumNeighbors: 37\nValidation Accuracy is 94.7%\nNumNeighbors: 38\nValidation Accuracy is 95.6%\nNumNeighbors: 39\nValidation Accuracy is 94.7%\nNumNeighbors: 40\nValidation Accuracy is 95.6%\nNumNeighbors: 41\nValidation Accuracy is 94.7%\nNumNeighbors: 42\nValidation Accuracy is 95.6%\nNumNeighbors: 43\nValidation Accuracy is 95.6%\nNumNeighbors: 44\nValidation Accuracy is 95.6%\nNumNeighbors: 45\nValidation Accuracy is 94.7%\nNumNeighbors: 46\nValidation Accuracy is 94.7%\nNumNeighbors: 47\nValidation Accuracy is 94.7%\nNumNeighbors: 48\nValidation Accuracy is 94.7%\nNumNeighbors: 49\nValidation Accuracy is 94.7%\nNumNeighbors: 50\nValidation Accuracy is 94.7%\nNumNeighbors: 51\nValidation Accuracy is 94.7%\nNumNeighbors: 52\nValidation Accuracy is 94.7%\nNumNeighbors: 53\nValidation Accuracy is 94.7%\nNumNeighbors: 54\nValidation Accuracy is 94.7%\nNumNeighbors: 55\nValidation Accuracy is 93.9%\nNumNeighbors: 56\nValidation Accuracy is 94.7%\nNumNeighbors: 57\nValidation Accuracy is 93.9%\nNumNeighbors: 58\nValidation Accuracy is 93.9%\nNumNeighbors: 59\nValidation Accuracy is 93.9%\nNumNeighbors: 60\nValidation Accuracy is 93.9%\nNumNeighbors: 61\nValidation Accuracy is 93.0%\nNumNeighbors: 62\nValidation Accuracy is 93.0%\nNumNeighbors: 63\nValidation Accuracy is 93.0%\nNumNeighbors: 64\nValidation Accuracy is 93.0%\nNumNeighbors: 65\nValidation Accuracy is 93.0%\nNumNeighbors: 66\nValidation Accuracy is 93.0%\nNumNeighbors: 67\nValidation Accuracy is 93.0%\nNumNeighbors: 68\nValidation Accuracy is 93.0%\nNumNeighbors: 69\nValidation Accuracy is 93.0%\nNumNeighbors: 70\nValidation Accuracy is 93.0%\nNumNeighbors: 71\nValidation Accuracy is 93.0%\nNumNeighbors: 72\nValidation Accuracy is 93.0%\nNumNeighbors: 73\nValidation Accuracy is 93.0%\nNumNeighbors: 74\nValidation Accuracy is 93.0%\nNumNeighbors: 75\nValidation Accuracy is 93.0%\nNumNeighbors: 76\nValidation Accuracy is 93.0%\nNumNeighbors: 77\nValidation Accuracy is 93.0%\nNumNeighbors: 78\nValidation Accuracy is 93.0%\nNumNeighbors: 79\nValidation Accuracy is 93.0%\nNumNeighbors: 80\nValidation Accuracy is 93.0%\nNumNeighbors: 81\nValidation Accuracy is 93.0%\nNumNeighbors: 82\nValidation Accuracy is 93.0%\nNumNeighbors: 83\nValidation Accuracy is 93.0%\nNumNeighbors: 84\nValidation Accuracy is 93.0%\nNumNeighbors: 85\nValidation Accuracy is 93.0%\nNumNeighbors: 86\nValidation Accuracy is 93.0%\nNumNeighbors: 87\nValidation Accuracy is 93.0%\nNumNeighbors: 88\nValidation Accuracy is 93.0%\nNumNeighbors: 89\nValidation Accuracy is 92.1%\nNumNeighbors: 90\nValidation Accuracy is 93.0%\nNumNeighbors: 91\nValidation Accuracy is 93.0%\nNumNeighbors: 92\nValidation Accuracy is 93.0%\nNumNeighbors: 93\nValidation Accuracy is 93.0%\nNumNeighbors: 94\nValidation Accuracy is 93.0%\nNumNeighbors: 95\nValidation Accuracy is 93.0%\nNumNeighbors: 96\nValidation Accuracy is 93.0%\nNumNeighbors: 97\nValidation Accuracy is 92.1%\nNumNeighbors: 98\nValidation Accuracy is 92.1%\nNumNeighbors: 99\nValidation Accuracy is 92.1%\nNumNeighbors: 100\nValidation Accuracy is 92.1%\nNumNeighbors: 101\nValidation Accuracy is 91.2%\nNumNeighbors: 102\nValidation Accuracy is 92.1%\nNumNeighbors: 103\nValidation Accuracy is 90.4%\nNumNeighbors: 104\nValidation Accuracy is 90.4%\nNumNeighbors: 105\nValidation Accuracy is 90.4%\nNumNeighbors: 106\nValidation Accuracy is 90.4%\nNumNeighbors: 107\nValidation Accuracy is 90.4%\nNumNeighbors: 108\nValidation Accuracy is 90.4%\nNumNeighbors: 109\nValidation Accuracy is 90.4%\nNumNeighbors: 110\nValidation Accuracy is 90.4%\nNumNeighbors: 111\nValidation Accuracy is 90.4%\nNumNeighbors: 112\nValidation Accuracy is 90.4%\nNumNeighbors: 113\nValidation Accuracy is 90.4%\nNumNeighbors: 114\nValidation Accuracy is 90.4%\nNumNeighbors: 115\nValidation Accuracy is 90.4%\nNumNeighbors: 116\nValidation Accuracy is 90.4%\nNumNeighbors: 117\nValidation Accuracy is 90.4%\nNumNeighbors: 118\nValidation Accuracy is 90.4%\nNumNeighbors: 119\nValidation Accuracy is 90.4%\nNumNeighbors: 120\nValidation Accuracy is 90.4%\nNumNeighbors: 121\nValidation Accuracy is 90.4%\nNumNeighbors: 122\nValidation Accuracy is 90.4%\nNumNeighbors: 123\nValidation Accuracy is 90.4%\nNumNeighbors: 124\nValidation Accuracy is 90.4%\nNumNeighbors: 125\nValidation Accuracy is 90.4%\nNumNeighbors: 126\nValidation Accuracy is 90.4%\nNumNeighbors: 127\nValidation Accuracy is 90.4%\nNumNeighbors: 128\nValidation Accuracy is 90.4%\nNumNeighbors: 129\nValidation Accuracy is 90.4%\nNumNeighbors: 130\nValidation Accuracy is 90.4%\nNumNeighbors: 131\nValidation Accuracy is 90.4%\nNumNeighbors: 132\nValidation Accuracy is 90.4%\nNumNeighbors: 133\nValidation Accuracy is 90.4%\nNumNeighbors: 134\nValidation Accuracy is 90.4%\nNumNeighbors: 135\nValidation Accuracy is 90.4%\nNumNeighbors: 136\nValidation Accuracy is 90.4%\nNumNeighbors: 137\nValidation Accuracy is 89.5%\nNumNeighbors: 138\nValidation Accuracy is 90.4%\nNumNeighbors: 139\nValidation Accuracy is 89.5%\nNumNeighbors: 140\nValidation Accuracy is 89.5%\nNumNeighbors: 141\nValidation Accuracy is 89.5%\nNumNeighbors: 142\nValidation Accuracy is 89.5%\nNumNeighbors: 143\nValidation Accuracy is 89.5%\nNumNeighbors: 144\nValidation Accuracy is 89.5%\nNumNeighbors: 145\nValidation Accuracy is 89.5%\nNumNeighbors: 146\nValidation Accuracy is 89.5%\nNumNeighbors: 147\nValidation Accuracy is 89.5%\nNumNeighbors: 148\nValidation Accuracy is 89.5%\nNumNeighbors: 149\nValidation Accuracy is 89.5%\nNumNeighbors: 150\nValidation Accuracy is 89.5%\nNumNeighbors: 151\nValidation Accuracy is 89.5%\nNumNeighbors: 152\nValidation Accuracy is 89.5%\nNumNeighbors: 153\nValidation Accuracy is 89.5%\nNumNeighbors: 154\nValidation Accuracy is 89.5%\nNumNeighbors: 155\nValidation Accuracy is 89.5%\nNumNeighbors: 156\nValidation Accuracy is 89.5%\nNumNeighbors: 157\nValidation Accuracy is 89.5%\nNumNeighbors: 158\nValidation Accuracy is 89.5%\nNumNeighbors: 159\nValidation Accuracy is 89.5%\nNumNeighbors: 160\nValidation Accuracy is 89.5%\nNumNeighbors: 161\nValidation Accuracy is 88.6%\nNumNeighbors: 162\nValidation Accuracy is 89.5%\nNumNeighbors: 163\nValidation Accuracy is 88.6%\nNumNeighbors: 164\nValidation Accuracy is 88.6%\nNumNeighbors: 165\nValidation Accuracy is 88.6%\nNumNeighbors: 166\nValidation Accuracy is 88.6%\nNumNeighbors: 167\nValidation Accuracy is 88.6%\nNumNeighbors: 168\nValidation Accuracy is 88.6%\nNumNeighbors: 169\nValidation Accuracy is 88.6%\nNumNeighbors: 170\nValidation Accuracy is 88.6%\nNumNeighbors: 171\nValidation Accuracy is 87.7%\nNumNeighbors: 172\nValidation Accuracy is 87.7%\nNumNeighbors: 173\nValidation Accuracy is 87.7%\nNumNeighbors: 174\nValidation Accuracy is 87.7%\nNumNeighbors: 175\nValidation Accuracy is 87.7%\nNumNeighbors: 176\nValidation Accuracy is 87.7%\nNumNeighbors: 177\nValidation Accuracy is 87.7%\nNumNeighbors: 178\nValidation Accuracy is 87.7%\nNumNeighbors: 179\nValidation Accuracy is 87.7%\nNumNeighbors: 180\nValidation Accuracy is 87.7%\nNumNeighbors: 181\nValidation Accuracy is 86.8%\nNumNeighbors: 182\nValidation Accuracy is 86.8%\nNumNeighbors: 183\nValidation Accuracy is 86.8%\nNumNeighbors: 184\nValidation Accuracy is 86.8%\nNumNeighbors: 185\nValidation Accuracy is 85.1%\nNumNeighbors: 186\nValidation Accuracy is 85.1%\nNumNeighbors: 187\nValidation Accuracy is 85.1%\nNumNeighbors: 188\nValidation Accuracy is 85.1%\nNumNeighbors: 189\nValidation Accuracy is 86.0%\nNumNeighbors: 190\nValidation Accuracy is 86.0%\nNumNeighbors: 191\nValidation Accuracy is 86.0%\nNumNeighbors: 192\nValidation Accuracy is 86.0%\nNumNeighbors: 193\nValidation Accuracy is 86.0%\nNumNeighbors: 194\nValidation Accuracy is 86.0%\nNumNeighbors: 195\nValidation Accuracy is 86.0%\nNumNeighbors: 196\nValidation Accuracy is 86.0%\nNumNeighbors: 197\nValidation Accuracy is 86.0%\nNumNeighbors: 198\nValidation Accuracy is 86.0%\nNumNeighbors: 199\nValidation Accuracy is 85.1%\nNumNeighbors: 200\nValidation Accuracy is 85.1%\nNumNeighbors: 201\nValidation Accuracy is 85.1%\nNumNeighbors: 202\nValidation Accuracy is 85.1%\nNumNeighbors: 203\nValidation Accuracy is 85.1%\nNumNeighbors: 204\nValidation Accuracy is 85.1%\nNumNeighbors: 205\nValidation Accuracy is 85.1%\nNumNeighbors: 206\nValidation Accuracy is 85.1%\nNumNeighbors: 207\nValidation Accuracy is 85.1%\nNumNeighbors: 208\nValidation Accuracy is 85.1%\nNumNeighbors: 209\nValidation Accuracy is 85.1%\nNumNeighbors: 210\nValidation Accuracy is 85.1%\nNumNeighbors: 211\nValidation Accuracy is 85.1%\nNumNeighbors: 212\nValidation Accuracy is 85.1%\nNumNeighbors: 213\nValidation Accuracy is 85.1%\nNumNeighbors: 214\nValidation Accuracy is 85.1%\nNumNeighbors: 215\nValidation Accuracy is 85.1%\nNumNeighbors: 216\nValidation Accuracy is 85.1%\nNumNeighbors: 217\nValidation Accuracy is 84.2%\nNumNeighbors: 218\nValidation Accuracy is 84.2%\nNumNeighbors: 219\nValidation Accuracy is 84.2%\nNumNeighbors: 220\nValidation Accuracy is 84.2%\nNumNeighbors: 221\nValidation Accuracy is 84.2%\nNumNeighbors: 222\nValidation Accuracy is 84.2%\nNumNeighbors: 223\nValidation Accuracy is 83.3%\nNumNeighbors: 224\nValidation Accuracy is 83.3%\nNumNeighbors: 225\nValidation Accuracy is 83.3%\nNumNeighbors: 226\nValidation Accuracy is 83.3%\nNumNeighbors: 227\nValidation Accuracy is 82.5%\nNumNeighbors: 228\nValidation Accuracy is 82.5%\nNumNeighbors: 229\nValidation Accuracy is 82.5%\nNumNeighbors: 230\nValidation Accuracy is 82.5%\nNumNeighbors: 231\nValidation Accuracy is 82.5%\nNumNeighbors: 232\nValidation Accuracy is 82.5%\nNumNeighbors: 233\nValidation Accuracy is 82.5%\nNumNeighbors: 234\nValidation Accuracy is 82.5%\nNumNeighbors: 235\nValidation Accuracy is 82.5%\nNumNeighbors: 236\nValidation Accuracy is 82.5%\nNumNeighbors: 237\nValidation Accuracy is 82.5%\nNumNeighbors: 238\nValidation Accuracy is 82.5%\nNumNeighbors: 239\nValidation Accuracy is 82.5%\nNumNeighbors: 240\nValidation Accuracy is 82.5%\nNumNeighbors: 241\nValidation Accuracy is 82.5%\nNumNeighbors: 242\nValidation Accuracy is 82.5%\nNumNeighbors: 243\nValidation Accuracy is 82.5%\nNumNeighbors: 244\nValidation Accuracy is 82.5%\nNumNeighbors: 245\nValidation Accuracy is 82.5%\nNumNeighbors: 246\nValidation Accuracy is 82.5%\nNumNeighbors: 247\nValidation Accuracy is 81.6%\nNumNeighbors: 248\nValidation Accuracy is 81.6%\nNumNeighbors: 249\nValidation Accuracy is 81.6%\nNumNeighbors: 250\nValidation Accuracy is 81.6%\nNumNeighbors: 251\nValidation Accuracy is 81.6%\nNumNeighbors: 252\nValidation Accuracy is 81.6%\nNumNeighbors: 253\nValidation Accuracy is 80.7%\nNumNeighbors: 254\nValidation Accuracy is 81.6%\nNumNeighbors: 255\nValidation Accuracy is 81.6%\nNumNeighbors: 256\nValidation Accuracy is 81.6%\nNumNeighbors: 257\nValidation Accuracy is 80.7%\nNumNeighbors: 258\nValidation Accuracy is 80.7%\nNumNeighbors: 259\nValidation Accuracy is 80.7%\nNumNeighbors: 260\nValidation Accuracy is 80.7%\nNumNeighbors: 261\nValidation Accuracy is 80.7%\nNumNeighbors: 262\nValidation Accuracy is 80.7%\nNumNeighbors: 263\nValidation Accuracy is 80.7%\nNumNeighbors: 264\nValidation Accuracy is 80.7%\nNumNeighbors: 265\nValidation Accuracy is 80.7%\nNumNeighbors: 266\nValidation Accuracy is 80.7%\nNumNeighbors: 267\nValidation Accuracy is 80.7%\nNumNeighbors: 268\nValidation Accuracy is 80.7%\nNumNeighbors: 269\nValidation Accuracy is 80.7%\nNumNeighbors: 270\nValidation Accuracy is 80.7%\nNumNeighbors: 271\nValidation Accuracy is 80.7%\nNumNeighbors: 272\nValidation Accuracy is 80.7%\nNumNeighbors: 273\nValidation Accuracy is 79.8%\nNumNeighbors: 274\nValidation Accuracy is 79.8%\nNumNeighbors: 275\nValidation Accuracy is 79.8%\nNumNeighbors: 276\nValidation Accuracy is 79.8%\nNumNeighbors: 277\nValidation Accuracy is 79.8%\nNumNeighbors: 278\nValidation Accuracy is 79.8%\nNumNeighbors: 279\nValidation Accuracy is 79.8%\nNumNeighbors: 280\nValidation Accuracy is 79.8%\nNumNeighbors: 281\nValidation Accuracy is 79.8%\nNumNeighbors: 282\nValidation Accuracy is 79.8%\nNumNeighbors: 283\nValidation Accuracy is 79.8%\nNumNeighbors: 284\nValidation Accuracy is 79.8%\nNumNeighbors: 285\nValidation Accuracy is 78.9%\nNumNeighbors: 286\nValidation Accuracy is 78.9%\nNumNeighbors: 287\nValidation Accuracy is 78.9%\nNumNeighbors: 288\nValidation Accuracy is 78.9%\nNumNeighbors: 289\nValidation Accuracy is 78.1%\nNumNeighbors: 290\nValidation Accuracy is 78.1%\nNumNeighbors: 291\nValidation Accuracy is 77.2%\nNumNeighbors: 292\nValidation Accuracy is 77.2%\nNumNeighbors: 293\nValidation Accuracy is 75.4%\nNumNeighbors: 294\nValidation Accuracy is 75.4%\nNumNeighbors: 295\nValidation Accuracy is 74.6%\nNumNeighbors: 296\nValidation Accuracy is 74.6%\nNumNeighbors: 297\nValidation Accuracy is 74.6%\nNumNeighbors: 298\nValidation Accuracy is 74.6%\nNumNeighbors: 299\nValidation Accuracy is 73.7%\nNumNeighbors: 300\nValidation Accuracy is 73.7%\nNumNeighbors: 301\nValidation Accuracy is 69.3%\nNumNeighbors: 302\nValidation Accuracy is 69.3%\nNumNeighbors: 303\nValidation Accuracy is 69.3%\nNumNeighbors: 304\nValidation Accuracy is 69.3%\nNumNeighbors: 305\nValidation Accuracy is 68.4%\nNumNeighbors: 306\nValidation Accuracy is 68.4%\nNumNeighbors: 307\nValidation Accuracy is 67.5%\nNumNeighbors: 308\nValidation Accuracy is 68.4%\nNumNeighbors: 309\nValidation Accuracy is 66.7%\nNumNeighbors: 310\nValidation Accuracy is 66.7%\nNumNeighbors: 311\nValidation Accuracy is 66.7%\nNumNeighbors: 312\nValidation Accuracy is 66.7%\nNumNeighbors: 313\nValidation Accuracy is 65.8%\nNumNeighbors: 314\nValidation Accuracy is 65.8%\nNumNeighbors: 315\nValidation Accuracy is 65.8%\nNumNeighbors: 316\nValidation Accuracy is 65.8%\nNumNeighbors: 317\nValidation Accuracy is 64.0%\nNumNeighbors: 318\nValidation Accuracy is 64.0%\nNumNeighbors: 319\nValidation Accuracy is 64.0%\nNumNeighbors: 320\nValidation Accuracy is 64.0%\nNumNeighbors: 321\nValidation Accuracy is 64.0%\nNumNeighbors: 322\nValidation Accuracy is 64.0%\nNumNeighbors: 323\nValidation Accuracy is 63.2%\nNumNeighbors: 324\nValidation Accuracy is 63.2%\nNumNeighbors: 325\nValidation Accuracy is 58.8%\nNumNeighbors: 326\nValidation Accuracy is 58.8%\nNumNeighbors: 327\nValidation Accuracy is 58.8%\nNumNeighbors: 328\nValidation Accuracy is 58.8%\nNumNeighbors: 329\nValidation Accuracy is 58.8%\nNumNeighbors: 330\nValidation Accuracy is 58.8%\nNumNeighbors: 331\nValidation Accuracy is 58.8%\nNumNeighbors: 332\nValidation Accuracy is 58.8%\nNumNeighbors: 333\nValidation Accuracy is 58.8%\nNumNeighbors: 334\nValidation Accuracy is 58.8%\nNumNeighbors: 335\nValidation Accuracy is 58.8%\nNumNeighbors: 336\nValidation Accuracy is 58.8%\nNumNeighbors: 337\nValidation Accuracy is 58.8%\nNumNeighbors: 338\nValidation Accuracy is 58.8%\nNumNeighbors: 339\nValidation Accuracy is 58.8%\nNumNeighbors: 340\nValidation Accuracy is 58.8%\nNumNeighbors: 341\nValidation Accuracy is 58.8%\nNumNeighbors: 342\nValidation Accuracy is 58.8%\nNumNeighbors: 343\nValidation Accuracy is 58.8%\nNumNeighbors: 344\nValidation Accuracy is 58.8%\nNumNeighbors: 345\nValidation Accuracy is 58.8%\nNumNeighbors: 346\nValidation Accuracy is 58.8%\nNumNeighbors: 347\nValidation Accuracy is 58.8%\nNumNeighbors: 348\nValidation Accuracy is 58.8%\nNumNeighbors: 349\nValidation Accuracy is 58.8%\nNumNeighbors: 350\nValidation Accuracy is 58.8%\nNumNeighbors: 351\nValidation Accuracy is 58.8%\nNumNeighbors: 352\nValidation Accuracy is 58.8%\nNumNeighbors: 353\nValidation Accuracy is 58.8%\nNumNeighbors: 354\nValidation Accuracy is 58.8%\nNumNeighbors: 355\nValidation Accuracy is 58.8%\nNumNeighbors: 356\nValidation Accuracy is 58.8%\nNumNeighbors: 357\nValidation Accuracy is 58.8%\nNumNeighbors: 358\nValidation Accuracy is 58.8%\nNumNeighbors: 359\nValidation Accuracy is 58.8%\nNumNeighbors: 360\nValidation Accuracy is 58.8%\nNumNeighbors: 361\nValidation Accuracy is 58.8%\nNumNeighbors: 362\nValidation Accuracy is 58.8%\nNumNeighbors: 363\nValidation Accuracy is 58.8%\nNumNeighbors: 364\nValidation Accuracy is 58.8%\nNumNeighbors: 365\nValidation Accuracy is 58.8%\nNumNeighbors: 366\nValidation Accuracy is 58.8%\nNumNeighbors: 367\nValidation Accuracy is 58.8%\nNumNeighbors: 368\nValidation Accuracy is 58.8%\nNumNeighbors: 369\nValidation Accuracy is 58.8%\nNumNeighbors: 370\nValidation Accuracy is 58.8%\nNumNeighbors: 371\nValidation Accuracy is 58.8%\nNumNeighbors: 372\nValidation Accuracy is 58.8%\nNumNeighbors: 373\nValidation Accuracy is 58.8%\nNumNeighbors: 374\nValidation Accuracy is 58.8%\nNumNeighbors: 375\nValidation Accuracy is 58.8%\nNumNeighbors: 376\nValidation Accuracy is 58.8%\nNumNeighbors: 377\nValidation Accuracy is 58.8%\nNumNeighbors: 378\nValidation Accuracy is 58.8%\nNumNeighbors: 379\nValidation Accuracy is 58.8%\nNumNeighbors: 380\nValidation Accuracy is 58.8%\nNumNeighbors: 381\nValidation Accuracy is 58.8%\nNumNeighbors: 382\nValidation Accuracy is 58.8%\nNumNeighbors: 383\nValidation Accuracy is 58.8%\nNumNeighbors: 384\nValidation Accuracy is 58.8%\nNumNeighbors: 385\nValidation Accuracy is 58.8%\nNumNeighbors: 386\nValidation Accuracy is 58.8%\nNumNeighbors: 387\nValidation Accuracy is 58.8%\nNumNeighbors: 388\nValidation Accuracy is 58.8%\nNumNeighbors: 389\nValidation Accuracy is 58.8%\nNumNeighbors: 390\nValidation Accuracy is 58.8%\nNumNeighbors: 391\nValidation Accuracy is 58.8%\nNumNeighbors: 392\nValidation Accuracy is 58.8%\nNumNeighbors: 393\nValidation Accuracy is 58.8%\nNumNeighbors: 394\nValidation Accuracy is 58.8%\nNumNeighbors: 395\nValidation Accuracy is 58.8%\nNumNeighbors: 396\nValidation Accuracy is 58.8%\nNumNeighbors: 397\nValidation Accuracy is 58.8%\nNumNeighbors: 398\nValidation Accuracy is 58.8%\nNumNeighbors: 399\nValidation Accuracy is 58.8%\nNumNeighbors: 400\nValidation Accuracy is 58.8%\nNumNeighbors: 401\nValidation Accuracy is 58.8%\nNumNeighbors: 402\nValidation Accuracy is 58.8%\nNumNeighbors: 403\nValidation Accuracy is 58.8%\nNumNeighbors: 404\nValidation Accuracy is 58.8%\nNumNeighbors: 405\nValidation Accuracy is 58.8%\nNumNeighbors: 406\nValidation Accuracy is 58.8%\nNumNeighbors: 407\nValidation Accuracy is 58.8%\nNumNeighbors: 408\nValidation Accuracy is 58.8%\nNumNeighbors: 409\nValidation Accuracy is 58.8%\nNumNeighbors: 410\nValidation Accuracy is 58.8%\nNumNeighbors: 411\nValidation Accuracy is 58.8%\nNumNeighbors: 412\nValidation Accuracy is 58.8%\nNumNeighbors: 413\nValidation Accuracy is 58.8%\nNumNeighbors: 414\nValidation Accuracy is 58.8%\nNumNeighbors: 415\nValidation Accuracy is 58.8%\nNumNeighbors: 416\nValidation Accuracy is 58.8%\nNumNeighbors: 417\nValidation Accuracy is 58.8%\nNumNeighbors: 418\nValidation Accuracy is 58.8%\nNumNeighbors: 419\nValidation Accuracy is 58.8%\nNumNeighbors: 420\nValidation Accuracy is 58.8%\nNumNeighbors: 421\nValidation Accuracy is 58.8%\nNumNeighbors: 422\nValidation Accuracy is 58.8%\nNumNeighbors: 423\nValidation Accuracy is 58.8%\nNumNeighbors: 424\nValidation Accuracy is 58.8%\nNumNeighbors: 425\nValidation Accuracy is 58.8%\nNumNeighbors: 426\nValidation Accuracy is 58.8%\nNumNeighbors: 427\nValidation Accuracy is 58.8%\nNumNeighbors: 428\nValidation Accuracy is 58.8%\nNumNeighbors: 429\nValidation Accuracy is 58.8%\nNumNeighbors: 430\nValidation Accuracy is 58.8%\nNumNeighbors: 431\nValidation Accuracy is 58.8%\nNumNeighbors: 432\nValidation Accuracy is 58.8%\nNumNeighbors: 433\nValidation Accuracy is 58.8%\nNumNeighbors: 434\nValidation Accuracy is 58.8%\nNumNeighbors: 435\nValidation Accuracy is 58.8%\nNumNeighbors: 436\nValidation Accuracy is 58.8%\nNumNeighbors: 437\nValidation Accuracy is 58.8%\nNumNeighbors: 438\nValidation Accuracy is 58.8%\nNumNeighbors: 439\nValidation Accuracy is 58.8%\nNumNeighbors: 440\nValidation Accuracy is 58.8%\nNumNeighbors: 441\nValidation Accuracy is 58.8%\nNumNeighbors: 442\nValidation Accuracy is 58.8%\nNumNeighbors: 443\nValidation Accuracy is 58.8%\nNumNeighbors: 444\nValidation Accuracy is 58.8%\nNumNeighbors: 445\nValidation Accuracy is 58.8%\nNumNeighbors: 446\nValidation Accuracy is 58.8%\nNumNeighbors: 447\nValidation Accuracy is 58.8%\nNumNeighbors: 448\nValidation Accuracy is 58.8%\nNumNeighbors: 449\nValidation Accuracy is 58.8%\nNumNeighbors: 450\nValidation Accuracy is 58.8%\nNumNeighbors: 451\nValidation Accuracy is 58.8%\nNumNeighbors: 452\nValidation Accuracy is 58.8%\nNumNeighbors: 453\nValidation Accuracy is 58.8%\nNumNeighbors: 454\nValidation Accuracy is 58.8%\nNumNeighbors: 455\nValidation Accuracy is 58.8%\n",
     "output_type": "stream"
    }
   ],
   "execution_count": null
  },
  {
   "cell_type": "code",
   "source": "for k in range(1,143):\n    print(\"NumNeighbors: \"+str(k))\n    split_train_test_dataset(wine, k)",
   "metadata": {
    "cell_id": "ffa55e9190c44fa48a86d83a329ef286",
    "tags": [],
    "deepnote_to_be_reexecuted": false,
    "source_hash": "d4a13cb6",
    "execution_start": 1657725193384,
    "execution_millis": 616,
    "deepnote_cell_type": "code",
    "deepnote_cell_height": 737
   },
   "outputs": [
    {
     "name": "stdout",
     "text": "NumNeighbors: 1\nValidation Accuracy is 77.8%\nNumNeighbors: 2\nValidation Accuracy is 75.0%\nNumNeighbors: 3\nValidation Accuracy is 77.8%\nNumNeighbors: 4\nValidation Accuracy is 75.0%\nNumNeighbors: 5\nValidation Accuracy is 80.6%\nNumNeighbors: 6\nValidation Accuracy is 75.0%\nNumNeighbors: 7\nValidation Accuracy is 77.8%\nNumNeighbors: 8\nValidation Accuracy is 69.4%\nNumNeighbors: 9\nValidation Accuracy is 75.0%\nNumNeighbors: 10\nValidation Accuracy is 72.2%\nNumNeighbors: 11\nValidation Accuracy is 72.2%\nNumNeighbors: 12\nValidation Accuracy is 69.4%\nNumNeighbors: 13\nValidation Accuracy is 75.0%\nNumNeighbors: 14\nValidation Accuracy is 72.2%\nNumNeighbors: 15\nValidation Accuracy is 72.2%\nNumNeighbors: 16\nValidation Accuracy is 75.0%\nNumNeighbors: 17\nValidation Accuracy is 77.8%\nNumNeighbors: 18\nValidation Accuracy is 75.0%\nNumNeighbors: 19\nValidation Accuracy is 77.8%\nNumNeighbors: 20\nValidation Accuracy is 77.8%\nNumNeighbors: 21\nValidation Accuracy is 75.0%\nNumNeighbors: 22\nValidation Accuracy is 75.0%\nNumNeighbors: 23\nValidation Accuracy is 75.0%\nNumNeighbors: 24\nValidation Accuracy is 75.0%\nNumNeighbors: 25\nValidation Accuracy is 75.0%\nNumNeighbors: 26\nValidation Accuracy is 75.0%\nNumNeighbors: 27\nValidation Accuracy is 75.0%\nNumNeighbors: 28\nValidation Accuracy is 75.0%\nNumNeighbors: 29\nValidation Accuracy is 75.0%\nNumNeighbors: 30\nValidation Accuracy is 75.0%\nNumNeighbors: 31\nValidation Accuracy is 75.0%\nNumNeighbors: 32\nValidation Accuracy is 75.0%\nNumNeighbors: 33\nValidation Accuracy is 75.0%\nNumNeighbors: 34\nValidation Accuracy is 75.0%\nNumNeighbors: 35\nValidation Accuracy is 75.0%\nNumNeighbors: 36\nValidation Accuracy is 75.0%\nNumNeighbors: 37\nValidation Accuracy is 75.0%\nNumNeighbors: 38\nValidation Accuracy is 75.0%\nNumNeighbors: 39\nValidation Accuracy is 75.0%\nNumNeighbors: 40\nValidation Accuracy is 75.0%\nNumNeighbors: 41\nValidation Accuracy is 75.0%\nNumNeighbors: 42\nValidation Accuracy is 75.0%\nNumNeighbors: 43\nValidation Accuracy is 75.0%\nNumNeighbors: 44\nValidation Accuracy is 75.0%\nNumNeighbors: 45\nValidation Accuracy is 75.0%\nNumNeighbors: 46\nValidation Accuracy is 75.0%\nNumNeighbors: 47\nValidation Accuracy is 75.0%\nNumNeighbors: 48\nValidation Accuracy is 75.0%\nNumNeighbors: 49\nValidation Accuracy is 75.0%\nNumNeighbors: 50\nValidation Accuracy is 75.0%\nNumNeighbors: 51\nValidation Accuracy is 75.0%\nNumNeighbors: 52\nValidation Accuracy is 75.0%\nNumNeighbors: 53\nValidation Accuracy is 75.0%\nNumNeighbors: 54\nValidation Accuracy is 75.0%\nNumNeighbors: 55\nValidation Accuracy is 75.0%\nNumNeighbors: 56\nValidation Accuracy is 75.0%\nNumNeighbors: 57\nValidation Accuracy is 75.0%\nNumNeighbors: 58\nValidation Accuracy is 75.0%\nNumNeighbors: 59\nValidation Accuracy is 75.0%\nNumNeighbors: 60\nValidation Accuracy is 75.0%\nNumNeighbors: 61\nValidation Accuracy is 75.0%\nNumNeighbors: 62\nValidation Accuracy is 75.0%\nNumNeighbors: 63\nValidation Accuracy is 75.0%\nNumNeighbors: 64\nValidation Accuracy is 75.0%\nNumNeighbors: 65\nValidation Accuracy is 75.0%\nNumNeighbors: 66\nValidation Accuracy is 75.0%\nNumNeighbors: 67\nValidation Accuracy is 75.0%\nNumNeighbors: 68\nValidation Accuracy is 75.0%\nNumNeighbors: 69\nValidation Accuracy is 75.0%\nNumNeighbors: 70\nValidation Accuracy is 75.0%\nNumNeighbors: 71\nValidation Accuracy is 75.0%\nNumNeighbors: 72\nValidation Accuracy is 75.0%\nNumNeighbors: 73\nValidation Accuracy is 75.0%\nNumNeighbors: 74\nValidation Accuracy is 75.0%\nNumNeighbors: 75\nValidation Accuracy is 77.8%\nNumNeighbors: 76\nValidation Accuracy is 77.8%\nNumNeighbors: 77\nValidation Accuracy is 77.8%\nNumNeighbors: 78\nValidation Accuracy is 77.8%\nNumNeighbors: 79\nValidation Accuracy is 77.8%\nNumNeighbors: 80\nValidation Accuracy is 77.8%\nNumNeighbors: 81\nValidation Accuracy is 77.8%\nNumNeighbors: 82\nValidation Accuracy is 75.0%\nNumNeighbors: 83\nValidation Accuracy is 77.8%\nNumNeighbors: 84\nValidation Accuracy is 75.0%\nNumNeighbors: 85\nValidation Accuracy is 77.8%\nNumNeighbors: 86\nValidation Accuracy is 77.8%\nNumNeighbors: 87\nValidation Accuracy is 75.0%\nNumNeighbors: 88\nValidation Accuracy is 75.0%\nNumNeighbors: 89\nValidation Accuracy is 75.0%\nNumNeighbors: 90\nValidation Accuracy is 75.0%\nNumNeighbors: 91\nValidation Accuracy is 75.0%\nNumNeighbors: 92\nValidation Accuracy is 75.0%\nNumNeighbors: 93\nValidation Accuracy is 75.0%\nNumNeighbors: 94\nValidation Accuracy is 75.0%\nNumNeighbors: 95\nValidation Accuracy is 83.3%\nNumNeighbors: 96\nValidation Accuracy is 83.3%\nNumNeighbors: 97\nValidation Accuracy is 83.3%\nNumNeighbors: 98\nValidation Accuracy is 83.3%\nNumNeighbors: 99\nValidation Accuracy is 83.3%\nNumNeighbors: 100\nValidation Accuracy is 83.3%\nNumNeighbors: 101\nValidation Accuracy is 83.3%\nNumNeighbors: 102\nValidation Accuracy is 83.3%\nNumNeighbors: 103\nValidation Accuracy is 83.3%\nNumNeighbors: 104\nValidation Accuracy is 83.3%\nNumNeighbors: 105\nValidation Accuracy is 83.3%\nNumNeighbors: 106\nValidation Accuracy is 83.3%\nNumNeighbors: 107\nValidation Accuracy is 80.6%\nNumNeighbors: 108\nValidation Accuracy is 80.6%\nNumNeighbors: 109\nValidation Accuracy is 80.6%\nNumNeighbors: 110\nValidation Accuracy is 80.6%\nNumNeighbors: 111\nValidation Accuracy is 80.6%\nNumNeighbors: 112\nValidation Accuracy is 77.8%\nNumNeighbors: 113\nValidation Accuracy is 77.8%\nNumNeighbors: 114\nValidation Accuracy is 77.8%\nNumNeighbors: 115\nValidation Accuracy is 77.8%\nNumNeighbors: 116\nValidation Accuracy is 77.8%\nNumNeighbors: 117\nValidation Accuracy is 77.8%\nNumNeighbors: 118\nValidation Accuracy is 77.8%\nNumNeighbors: 119\nValidation Accuracy is 77.8%\nNumNeighbors: 120\nValidation Accuracy is 77.8%\nNumNeighbors: 121\nValidation Accuracy is 77.8%\nNumNeighbors: 122\nValidation Accuracy is 77.8%\nNumNeighbors: 123\nValidation Accuracy is 77.8%\nNumNeighbors: 124\nValidation Accuracy is 77.8%\nNumNeighbors: 125\nValidation Accuracy is 77.8%\nNumNeighbors: 126\nValidation Accuracy is 77.8%\nNumNeighbors: 127\nValidation Accuracy is 77.8%\nNumNeighbors: 128\nValidation Accuracy is 77.8%\nNumNeighbors: 129\nValidation Accuracy is 77.8%\nNumNeighbors: 130\nValidation Accuracy is 77.8%\nNumNeighbors: 131\nValidation Accuracy is 77.8%\nNumNeighbors: 132\nValidation Accuracy is 77.8%\nNumNeighbors: 133\nValidation Accuracy is 44.4%\nNumNeighbors: 134\nValidation Accuracy is 44.4%\nNumNeighbors: 135\nValidation Accuracy is 44.4%\nNumNeighbors: 136\nValidation Accuracy is 44.4%\nNumNeighbors: 137\nValidation Accuracy is 44.4%\nNumNeighbors: 138\nValidation Accuracy is 44.4%\nNumNeighbors: 139\nValidation Accuracy is 44.4%\nNumNeighbors: 140\nValidation Accuracy is 44.4%\nNumNeighbors: 141\nValidation Accuracy is 44.4%\nNumNeighbors: 142\nValidation Accuracy is 44.4%\n",
     "output_type": "stream"
    }
   ],
   "execution_count": null
  },
  {
   "cell_type": "markdown",
   "source": "Write a single mathematical expression describing the relationship you found between $n$ (the size of the dataset) and $k$ (the number of datapoints used to classify each validation datum).",
   "metadata": {
    "id": "n1_EbFlqzjAT",
    "colab_type": "text",
    "cell_id": "00007-9e31e134-f849-45d6-980b-81094c4e074f",
    "deepnote_cell_type": "markdown",
    "deepnote_cell_height": 74.796875
   }
  },
  {
   "cell_type": "markdown",
   "source": "k=0.019n+0.4396",
   "metadata": {
    "id": "PbbrX6rGq6CV",
    "colab_type": "text",
    "cell_id": "00008-01630e1e-58e1-480d-b182-928216e4dc1d",
    "deepnote_cell_type": "markdown",
    "deepnote_cell_height": 52.390625
   }
  },
  {
   "cell_type": "markdown",
   "source": "## Problem 3\nNow, we will **be writing our k-NNA**. Recall that we said a kNN is comprised of a predictions and using those predictions to classify the data. Here we will try to mimic sklearn's kNN methods. We will be using the Pima diabetes dataset. ",
   "metadata": {
    "colab_type": "text",
    "id": "-vDZy0F3eyeH",
    "cell_id": "00009-6b713464-0106-4edd-946f-132b72febf84",
    "deepnote_cell_type": "markdown",
    "deepnote_cell_height": 130.796875
   }
  },
  {
   "cell_type": "markdown",
   "source": "### Loading and splitting data",
   "metadata": {
    "id": "8YFfjG9G3lVO",
    "colab_type": "text",
    "cell_id": "00010-84a30058-7b6a-4895-b6d3-3c2289005067",
    "deepnote_cell_type": "markdown",
    "deepnote_cell_height": 62
   }
  },
  {
   "cell_type": "code",
   "metadata": {
    "colab_type": "code",
    "id": "zbs8WICFgITd",
    "colab": {},
    "cell_id": "00011-1c057c97-58b6-4874-80b7-10c7451fa29c",
    "deepnote_to_be_reexecuted": false,
    "source_hash": "ac1b2bb9",
    "execution_start": 1657725194000,
    "execution_millis": 152,
    "deepnote_cell_type": "code",
    "deepnote_cell_height": 261
   },
   "source": "url = \"https://github.com/BeaverWorksMedlytics2020/Data_Public/raw/master/NotebookExampleData/Week1/diabetes.csv\"\nnames = ['preg', 'plas', 'pres', 'skin', 'test', 'mass', 'pedi', 'age', 'class']\ndata = po.read_csv(url, names=names)\n\n# Dropping NaN rows\ninvalid = ['plas', 'pres', 'skin', 'test', 'mass']\n\nfor i in invalid:\n    data[i].replace(to_replace=0, value=np.nan, inplace=True)\n    \ndata = data.dropna(axis=0).reset_index(drop=True)",
   "outputs": [],
   "execution_count": null
  },
  {
   "cell_type": "markdown",
   "source": "Now, let's clearly define which columns will act as explanatory variables, and which column will be the target value, and split the dataset between your training data and testing data. Let's try an 80-20 split and use sklearn's [train_test_split](http://scikit-learn.org/stable/modules/generated/sklearn.model_selection.train_test_split.html) method (set random_state = 0 so we get the same output each time).",
   "metadata": {
    "id": "aSUwHL6-4P2F",
    "colab_type": "text",
    "cell_id": "00012-edbb2bcc-a36e-4f35-82dc-f76f34842e05",
    "deepnote_cell_type": "markdown",
    "deepnote_cell_height": 97.1875
   }
  },
  {
   "cell_type": "code",
   "metadata": {
    "colab_type": "code",
    "id": "9MXZjxRcgy78",
    "colab": {
     "base_uri": "https://localhost:8080/",
     "height": 68
    },
    "outputId": "91bb35f5-9c29-4c6b-dbba-7a0644a3e2ca",
    "cell_id": "00013-92ad0b5c-3054-4097-b3ae-6285d5b03669",
    "deepnote_to_be_reexecuted": false,
    "source_hash": "d98a6cd6",
    "execution_start": 1657725194157,
    "execution_millis": 8,
    "deepnote_cell_type": "code",
    "deepnote_cell_height": 421.078125
   },
   "source": "# Columns we will use to make predictions with (features!) feel free to play around with these\nX_cols = ['preg', 'plas', 'pres', 'skin', 'test', 'mass', 'pedi', 'age']\n\n# Column that we want to predict (the labels)\ny_col = 'class'\n\n# 80-20 train-test split of datset\ntest_size = 0.2\nX_train, X_test, y_train, y_test = train_test_split(data[X_cols], data[y_col], test_size=test_size, random_state=0)\n\n# Further split X and y of training into training and validation sets\nX_train, X_val, y_train, y_val = train_test_split(X_train, y_train, test_size=test_size, random_state=0)\n\nprint('There are {} training samples with {} features and {} associated classification labels'.format(*X_train.shape, *y_train.shape))\nprint('There are {} validation samples with {} features and {} associated classification labels'.format(*X_val.shape, *y_val.shape))\nprint('There are {} test samples with {} features and {} associated classification labels'.format(*X_test.shape, *y_test.shape))",
   "outputs": [
    {
     "name": "stdout",
     "text": "There are 250 training samples with 8 features and 250 associated classification labels\nThere are 63 validation samples with 8 features and 63 associated classification labels\nThere are 79 test samples with 8 features and 79 associated classification labels\n",
     "output_type": "stream"
    }
   ],
   "execution_count": null
  },
  {
   "cell_type": "markdown",
   "source": "### Normalizing Data\n\nLet's not forget to normalize the data! We'll use sklearn's StandardScaler normalization like we did before to normalize the training **and** validation/data.",
   "metadata": {
    "colab_type": "text",
    "id": "De_EJnYKgz_6",
    "cell_id": "00014-d3d19f71-9aab-4cb2-a5bc-bd51c048aaab",
    "deepnote_cell_type": "markdown",
    "deepnote_cell_height": 122.796875
   }
  },
  {
   "cell_type": "code",
   "metadata": {
    "colab_type": "code",
    "id": "6PD6-ibriBJO",
    "colab": {},
    "cell_id": "00015-3c4b33fb-bf48-4a47-888f-26f963243ca1",
    "deepnote_to_be_reexecuted": false,
    "source_hash": "49803c98",
    "execution_start": 1657725194211,
    "execution_millis": 0,
    "deepnote_cell_type": "code",
    "deepnote_cell_height": 405
   },
   "source": "from sklearn.preprocessing import StandardScaler\n\nscaler = StandardScaler()\n\nfor i in list(X_train):\n    feature_data_train = X_train[i].values.reshape(-1, 1)\n    scaler.fit(feature_data_train)\n    X_train[i] = scaler.transform(feature_data_train)\n\nfor j in list(X_test):\n    feature_data_test = X_test[j].values.reshape(-1, 1)\n    scaler.fit(feature_data_test)\n    X_test[j] = scaler.transform(feature_data_test)\n    \nfor k in list(X_val):\n    feature_data_val = X_val[k].values.reshape(-1, 1)\n    scaler.fit(feature_data_val)\n    X_val[k] = scaler.transform(feature_data_val)\n",
   "outputs": [],
   "execution_count": null
  },
  {
   "cell_type": "markdown",
   "source": "### Writing your kNN\n\nNow for the fun part! Fill in the 3 following methods, euclidean_dist(), predict(), and knn().\n\nThe predict method that we'll make below needs to: \n1. Compute the euclidean distance between the “new” observation and all the data points in the training set. \n2. Assign the corresponding label to the observation\n3. Select the k nearest ones and perform a \"majority vote\"",
   "metadata": {
    "colab_type": "text",
    "id": "hnv61aiiitxU",
    "cell_id": "00016-936a23e0-5940-4cd3-bfbf-f65294228af4",
    "deepnote_cell_type": "markdown",
    "deepnote_cell_height": 237.984375
   }
  },
  {
   "cell_type": "code",
   "metadata": {
    "id": "xXkIw6zN3lVb",
    "colab_type": "code",
    "colab": {},
    "cell_id": "00017-14b68561-0190-4b35-9b04-3b33196a69b9",
    "deepnote_to_be_reexecuted": false,
    "source_hash": "5b1eb574",
    "execution_start": 1657725437468,
    "execution_millis": 26,
    "deepnote_cell_type": "code",
    "deepnote_cell_height": 508.34375
   },
   "source": "# Euclidean distance function from tutorial\ndef euclidean_dist(datum1, datum2):\n    inner_val = 0.0\n    \n    for g in range(datum1.shape[0]):\n        inner_val += (datum1[g]- datum2[g]) ** 2\n    \n    distance = np.sqrt(inner_val)\n    return(distance)\n\nprint(y_train)",
   "outputs": [
    {
     "name": "stdout",
     "text": "173    0\n289    0\n115    1\n335    0\n181    0\n      ..\n257    0\n11     1\n249    0\n101    1\n248    1\nName: class, Length: 250, dtype: int64\n",
     "output_type": "stream"
    }
   ],
   "execution_count": null
  },
  {
   "cell_type": "code",
   "metadata": {
    "colab_type": "code",
    "id": "FqJkm_ytjFgM",
    "colab": {},
    "cell_id": "00018-7a3be6d5-55b3-4735-9047-9e5f47a66054",
    "deepnote_to_be_reexecuted": false,
    "source_hash": "4830552",
    "execution_start": 1657727190857,
    "execution_millis": 1,
    "owner_user_id": "aa365434-90ac-43df-8cde-8ea39110c12e",
    "deepnote_cell_type": "code",
    "deepnote_cell_height": 459
   },
   "source": "from collections import Counter\n\ndef predict(x_training, y_training, x_test_sample, k):\n    \n    # Create list for distances and targets\n    distances = []\n    targets = []\n\n    # YOUR CODE HERE\n    for i in range(len(x_training)):\n        distances.append(euclidean_dist(np.array(x_training.iloc[i]),x_test_sample))\n    targets=np.array(y_train)\n\n    zipped = zip(distances, targets)\n    sort = sorted(zipped, key = lambda x: x[0])\n    countlist = []\n    for i in range(k):\n        countlist.append(sort[i][1])\n    \n    \n    return Counter(countlist).most_common(1)[0][0]\n",
   "outputs": [],
   "execution_count": null
  },
  {
   "cell_type": "code",
   "metadata": {
    "id": "BguZLcRa3lVh",
    "colab_type": "code",
    "colab": {},
    "cell_id": "00019-0630ca1e-0300-4f0e-8a92-1b703be12bbe",
    "deepnote_to_be_reexecuted": false,
    "source_hash": "b8f6d79",
    "execution_start": 1657727191231,
    "execution_millis": 0,
    "deepnote_cell_type": "code",
    "deepnote_cell_height": 189
   },
   "source": "def knn(x_training, y_training, x_testing, k):\n    \n    # YOUR CODE HERE\n    y_pred = []\n    for i in range(len(x_testing)):\n        y_pred.append(predict(x_training, y_training, np.array(x_testing.iloc[i]), k))\n    return y_pred",
   "outputs": [],
   "execution_count": null
  },
  {
   "cell_type": "markdown",
   "source": "When done, test your code by running the methods here!",
   "metadata": {
    "colab_type": "text",
    "id": "4uhQZPIpjdo9",
    "cell_id": "00020-cfffd903-553f-4ecc-8220-5636a082d81a",
    "deepnote_cell_type": "markdown",
    "deepnote_cell_height": 52.390625
   }
  },
  {
   "cell_type": "code",
   "metadata": {
    "colab_type": "code",
    "id": "AHRJXVr7jcao",
    "colab": {},
    "cell_id": "00021-89b4af94-0959-47b8-ac7a-1c2f48e40679",
    "deepnote_to_be_reexecuted": false,
    "source_hash": "5a67ec5a",
    "execution_start": 1657727193245,
    "execution_millis": 1331,
    "deepnote_cell_type": "code",
    "deepnote_cell_height": 275.390625
   },
   "source": "from sklearn.metrics import accuracy_score\nimport time\n\nstart = time.time()\npredictions_slow = knn(X_train, y_train, X_val, k=5)\n\nprint('Took {} seconds'.format(time.time() - start))\nprint(\"Validation Accuracy is \", accuracy_score(y_val,predictions_slow)*100)\n",
   "outputs": [
    {
     "name": "stdout",
     "text": "Took 1.6082158088684082 seconds\nValidation Accuracy is  80.95238095238095\n",
     "output_type": "stream"
    }
   ],
   "execution_count": null
  },
  {
   "cell_type": "markdown",
   "source": "Check sklearn's predictions on validation data from the tutorial notebook and make sure they match yours. Sklearn is faster, but you should get the same answers.",
   "metadata": {
    "id": "2a51RcbJ3lVq",
    "colab_type": "text",
    "cell_id": "00022-4a85eefc-cd74-4a60-894d-aa845d36111f",
    "deepnote_cell_type": "markdown",
    "deepnote_cell_height": 74.796875
   }
  },
  {
   "cell_type": "markdown",
   "source": "",
   "metadata": {
    "cell_id": "e6874ab0c75a4b5c8d05e8bcf832d5e7",
    "tags": [],
    "deepnote_cell_type": "markdown",
    "deepnote_cell_height": 46
   }
  },
  {
   "cell_type": "markdown",
   "source": "<a style='text-decoration:none;line-height:16px;display:flex;color:#5B5B62;padding:10px;justify-content:end;' href='https://deepnote.com?utm_source=created-in-deepnote-cell&projectId=05fb33c5-513a-47bf-9406-db6cdf44c5e3' target=\"_blank\">\n<img alt='Created in deepnote.com' style='display:inline;max-height:16px;margin:0px;margin-right:7.5px;' src='data:image/svg+xml;base64,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' > </img>\nCreated in <span style='font-weight:600;margin-left:4px;'>Deepnote</span></a>",
   "metadata": {
    "tags": [],
    "created_in_deepnote_cell": true,
    "deepnote_cell_type": "markdown"
   }
  }
 ],
 "nbformat": 4,
 "nbformat_minor": 0,
 "metadata": {
  "colab": {
   "name": "NearestNeighbors_Exercises",
   "provenance": [],
   "collapsed_sections": []
  },
  "kernelspec": {
   "display_name": "Python 3",
   "language": "python",
   "name": "python3"
  },
  "language_info": {
   "codemirror_mode": {
    "name": "ipython",
    "version": 3
   },
   "file_extension": ".py",
   "mimetype": "text/x-python",
   "name": "python",
   "nbconvert_exporter": "python",
   "pygments_lexer": "ipython3",
   "version": "3.7.3"
  },
  "deepnote_notebook_id": "9b6a0168-bffb-4750-b7a9-565c6addf8e5",
  "deepnote": {},
  "deepnote_execution_queue": []
 }
}